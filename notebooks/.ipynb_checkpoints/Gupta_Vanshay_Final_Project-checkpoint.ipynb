{
 "cells": [
  {
   "cell_type": "markdown",
   "id": "2o2bzrkloqe1",
   "metadata": {
    "id": "2o2bzrkloqe1"
   },
   "source": [
    "### Name: Vanshay Gupta \n",
    "### Github Username: VanshayGupta\n",
    "### USC ID: 7400-4252-79"
   ]
  },
  {
   "cell_type": "code",
   "execution_count": 1,
   "id": "db96ab49",
   "metadata": {
    "colab": {
     "base_uri": "https://localhost:8080/"
    },
    "id": "db96ab49",
    "outputId": "1242453b-3713-45be-c16a-2a3e0e2f504e"
   },
   "outputs": [
    {
     "name": "stdout",
     "output_type": "stream",
     "text": [
      "Requirement already satisfied: split-folders in /Users/vanshaygupta/opt/anaconda3/lib/python3.9/site-packages (0.5.1)\n",
      "Note: you may need to restart the kernel to use updated packages.\n"
     ]
    }
   ],
   "source": [
    "pip install split-folders"
   ]
  },
  {
   "cell_type": "code",
   "execution_count": 3,
   "id": "b7d35b8c",
   "metadata": {
    "colab": {
     "base_uri": "https://localhost:8080/"
    },
    "id": "b7d35b8c",
    "outputId": "5178233a-ee35-471a-9f0a-ec5ad8f496f6"
   },
   "outputs": [],
   "source": [
    "#importing libraries\n",
    "import numpy as np\n",
    "import pandas as pd\n",
    "import seaborn as sns\n",
    "import matplotlib.pyplot as plt\n",
    "import tensorflow as tf\n",
    "from tensorflow import keras\n",
    "import random\n",
    "from random import sample\n",
    "import splitfolders\n",
    "from sklearn.metrics import classification_report\n",
    "from tensorflow.keras.preprocessing.image import ImageDataGenerator\n",
    "from tensorflow.keras.applications.vgg16 import VGG16, preprocess_input\n",
    "from tensorflow.keras import layers, models\n",
    "from keras.applications.efficientnet import EfficientNetB0\n",
    "from tensorflow.keras.utils import to_categorical\n",
    "from keras.callbacks import EarlyStopping\n",
    "# from google.colab import drive\n",
    "# drive.mount('/content/drive/')"
   ]
  },
  {
   "cell_type": "markdown",
   "id": "l4uTridjo6qx",
   "metadata": {
    "id": "l4uTridjo6qx"
   },
   "source": [
    "## Q 1"
   ]
  },
  {
   "cell_type": "code",
   "execution_count": 4,
   "id": "7bbd22bd",
   "metadata": {
    "colab": {
     "base_uri": "https://localhost:8080/"
    },
    "id": "7bbd22bd",
    "outputId": "2ba5b13a-040b-4853-a3b3-8017a72f05fe"
   },
   "outputs": [
    {
     "name": "stderr",
     "output_type": "stream",
     "text": [
      "Copying files: 1176 files [00:01, 926.72 files/s]\n"
     ]
    }
   ],
   "source": [
    "#splitting data into train, test and validation sets\n",
    "splitfolders.ratio(\"../data/images\", output=\"output\",\n",
    "    seed=1337, ratio=(0.7, 0.15, 0.15), group_prefix=None, move=False)"
   ]
  },
  {
   "cell_type": "code",
   "execution_count": 5,
   "id": "2818f078",
   "metadata": {
    "colab": {
     "base_uri": "https://localhost:8080/"
    },
    "id": "2818f078",
    "outputId": "06ff8821-6075-4443-95a0-265083150564"
   },
   "outputs": [
    {
     "name": "stdout",
     "output_type": "stream",
     "text": [
      "Found 820 images belonging to 20 classes.\n",
      "Found 171 images belonging to 20 classes.\n",
      "Found 185 images belonging to 20 classes.\n"
     ]
    }
   ],
   "source": [
    "#image augmentation for training set\n",
    "train_datagen = ImageDataGenerator(\n",
    "        preprocessing_function = preprocess_input,\n",
    "        rotation_range = 10, #zoom\n",
    "        width_shift_range = 0.2, #translate\n",
    "        height_shift_range = 0.2, \n",
    "        zoom_range = 0.2, #zoom\n",
    "        horizontal_flip = True, #flip\n",
    "        brightness_range=[0.2,1.2]) #contrast\n",
    "\n",
    "test_datagen = ImageDataGenerator(preprocessing_function = preprocess_input)\n",
    "\n",
    "#getting data from directories\n",
    "train_generator=train_datagen.flow_from_directory(\n",
    "    'output/train', #data source\n",
    "    target_size = (224, 224), #resizing images to (224, 224)\n",
    "    shuffle = True, #shuffling data\n",
    "    class_mode = 'categorical') #one-hot encoding of categorical variables\n",
    "\n",
    "val_generator=test_datagen.flow_from_directory(\n",
    "    'output/val',\n",
    "    target_size = (224, 224),\n",
    "    shuffle = False,\n",
    "    class_mode = 'categorical')\n",
    "\n",
    "test_generator=test_datagen.flow_from_directory(\n",
    "    'output/test',\n",
    "    target_size = (224, 224),\n",
    "    shuffle = False,\n",
    "    class_mode = 'categorical')"
   ]
  },
  {
   "cell_type": "code",
   "execution_count": 7,
   "id": "92d0562b",
   "metadata": {
    "colab": {
     "base_uri": "https://localhost:8080/"
    },
    "id": "92d0562b",
    "outputId": "78504d51-a1c4-4fff-cbe3-58aaeecf5efc"
   },
   "outputs": [
    {
     "name": "stderr",
     "output_type": "stream",
     "text": [
      "2022-12-12 11:05:00.961700: I tensorflow/core/platform/cpu_feature_guard.cc:193] This TensorFlow binary is optimized with oneAPI Deep Neural Network Library (oneDNN) to use the following CPU instructions in performance-critical operations:  SSE4.1 SSE4.2 AVX AVX2 FMA\n",
      "To enable them in other operations, rebuild TensorFlow with the appropriate compiler flags.\n"
     ]
    },
    {
     "name": "stdout",
     "output_type": "stream",
     "text": [
      "Epoch 1/100\n",
      "26/26 - 96s - loss: 4.1845 - accuracy: 0.3000 - val_loss: 8.4044 - val_accuracy: 0.5205 - 96s/epoch - 4s/step\n",
      "Epoch 2/100\n",
      "26/26 - 104s - loss: 2.4190 - accuracy: 0.5988 - val_loss: 4.9919 - val_accuracy: 0.6257 - 104s/epoch - 4s/step\n",
      "Epoch 3/100\n",
      "26/26 - 91s - loss: 2.0546 - accuracy: 0.6683 - val_loss: 2.8346 - val_accuracy: 0.6842 - 91s/epoch - 4s/step\n",
      "Epoch 4/100\n",
      "26/26 - 102s - loss: 1.4342 - accuracy: 0.7402 - val_loss: 3.2484 - val_accuracy: 0.7193 - 102s/epoch - 4s/step\n",
      "Epoch 5/100\n",
      "26/26 - 108s - loss: 1.1420 - accuracy: 0.7610 - val_loss: 3.1165 - val_accuracy: 0.7251 - 108s/epoch - 4s/step\n",
      "Epoch 6/100\n",
      "26/26 - 98s - loss: 1.1419 - accuracy: 0.7915 - val_loss: 2.3651 - val_accuracy: 0.7427 - 98s/epoch - 4s/step\n",
      "Epoch 7/100\n",
      "26/26 - 96s - loss: 0.9126 - accuracy: 0.8134 - val_loss: 2.6426 - val_accuracy: 0.7251 - 96s/epoch - 4s/step\n",
      "Epoch 8/100\n",
      "26/26 - 95s - loss: 0.8360 - accuracy: 0.8110 - val_loss: 2.5199 - val_accuracy: 0.7485 - 95s/epoch - 4s/step\n",
      "Epoch 9/100\n",
      "26/26 - 92s - loss: 0.7860 - accuracy: 0.8634 - val_loss: 1.8561 - val_accuracy: 0.7895 - 92s/epoch - 4s/step\n",
      "Epoch 10/100\n",
      "26/26 - 91s - loss: 0.7390 - accuracy: 0.8451 - val_loss: 1.7530 - val_accuracy: 0.8012 - 91s/epoch - 4s/step\n",
      "Epoch 11/100\n",
      "26/26 - 91s - loss: 0.7131 - accuracy: 0.8524 - val_loss: 2.0396 - val_accuracy: 0.7953 - 91s/epoch - 3s/step\n",
      "Epoch 12/100\n",
      "26/26 - 94s - loss: 0.6354 - accuracy: 0.8598 - val_loss: 2.0962 - val_accuracy: 0.7778 - 94s/epoch - 4s/step\n",
      "Epoch 13/100\n",
      "26/26 - 99s - loss: 0.5737 - accuracy: 0.8829 - val_loss: 2.1100 - val_accuracy: 0.7778 - 99s/epoch - 4s/step\n",
      "Epoch 14/100\n",
      "26/26 - 106s - loss: 0.6027 - accuracy: 0.8744 - val_loss: 1.9241 - val_accuracy: 0.8129 - 106s/epoch - 4s/step\n",
      "Epoch 15/100\n",
      "26/26 - 100s - loss: 0.6945 - accuracy: 0.8732 - val_loss: 1.9830 - val_accuracy: 0.7836 - 100s/epoch - 4s/step\n",
      "Epoch 16/100\n",
      "26/26 - 101s - loss: 0.7319 - accuracy: 0.8707 - val_loss: 2.0259 - val_accuracy: 0.7719 - 101s/epoch - 4s/step\n",
      "Epoch 17/100\n",
      "26/26 - 102s - loss: 0.6006 - accuracy: 0.8707 - val_loss: 2.5142 - val_accuracy: 0.7602 - 102s/epoch - 4s/step\n",
      "Epoch 18/100\n",
      "26/26 - 105s - loss: 0.6926 - accuracy: 0.8634 - val_loss: 2.5781 - val_accuracy: 0.7719 - 105s/epoch - 4s/step\n",
      "Epoch 19/100\n",
      "26/26 - 94s - loss: 0.4526 - accuracy: 0.9073 - val_loss: 2.2160 - val_accuracy: 0.8012 - 94s/epoch - 4s/step\n",
      "Epoch 20/100\n",
      "26/26 - 101s - loss: 0.5431 - accuracy: 0.8939 - val_loss: 1.8917 - val_accuracy: 0.7719 - 101s/epoch - 4s/step\n",
      "Epoch 21/100\n",
      "26/26 - 96s - loss: 0.5463 - accuracy: 0.8963 - val_loss: 2.6226 - val_accuracy: 0.7602 - 96s/epoch - 4s/step\n",
      "Epoch 22/100\n",
      "26/26 - 93s - loss: 0.4624 - accuracy: 0.8963 - val_loss: 2.4139 - val_accuracy: 0.7661 - 93s/epoch - 4s/step\n",
      "Epoch 23/100\n",
      "26/26 - 93s - loss: 0.4487 - accuracy: 0.8890 - val_loss: 2.2566 - val_accuracy: 0.7953 - 93s/epoch - 4s/step\n",
      "Epoch 24/100\n",
      "26/26 - 101s - loss: 0.3056 - accuracy: 0.9195 - val_loss: 2.1608 - val_accuracy: 0.8012 - 101s/epoch - 4s/step\n"
     ]
    }
   ],
   "source": [
    "#VGG16 base model instance\n",
    "vgg16_base_model = VGG16(weights = \"imagenet\", include_top = False, input_shape = (224,224,3))\n",
    "\n",
    "#freezing layers of VGG16\n",
    "vgg16_base_model.trainable = False \n",
    "\n",
    "#flattening data\n",
    "flatten_layer = layers.Flatten()\n",
    "\n",
    "#adding batch normalization\n",
    "batch_normalization = layers.BatchNormalization()\n",
    "\n",
    "#adding relu activation layer\n",
    "relu_layer = layers.Dense(256, activation='relu')\n",
    "\n",
    "#adding dropout layer\n",
    "dropout_layer = layers.Dropout(0.2)\n",
    "\n",
    "#adding softmax activation layer\n",
    "softmax_layer = layers.Dense(20, activation='softmax')\n",
    "\n",
    "#combining all the layers\n",
    "vgg16_model = models.Sequential([\n",
    "    layers.RandomCrop(224, 224), #crop\n",
    "    vgg16_base_model,\n",
    "    flatten_layer,\n",
    "    batch_normalization,\n",
    "    relu_layer,\n",
    "    dropout_layer,\n",
    "    softmax_layer\n",
    "])\n",
    "\n",
    "#compiling the model\n",
    "vgg16_model.compile(\n",
    "    optimizer='adam',\n",
    "    loss='categorical_crossentropy',\n",
    "    metrics=['accuracy']\n",
    ")\n",
    "\n",
    "#setting maximum number of epochs\n",
    "epochs = 100\n",
    "\n",
    "\n",
    "#defining early stopping instance\n",
    "es = EarlyStopping(monitor='val_accuracy', mode='max', patience=10,  restore_best_weights=True)\n",
    "\n",
    "#training the model\n",
    "vgg16_training = vgg16_model.fit(train_generator, epochs=epochs, validation_data=val_generator, verbose=2, batch_size=5, callbacks=[es])"
   ]
  },
  {
   "cell_type": "code",
   "execution_count": 8,
   "id": "2PLbawh8BruV",
   "metadata": {
    "id": "2PLbawh8BruV"
   },
   "outputs": [
    {
     "name": "stdout",
     "output_type": "stream",
     "text": [
      "6/6 [==============================] - 17s 3s/step - loss: 3.0034 - accuracy: 0.7351\n",
      "VGG16 Test Loss: 3.0033628940582275\n",
      "VGG16 Test Accuracy: 0.7351351380348206\n"
     ]
    }
   ],
   "source": [
    "#evaluating VGG16 on test data\n",
    "vgg16_test_loss, vgg16_test_accuracy = vgg16_model.evaluate(test_generator)\n",
    "print(\"VGG16 Test Loss: \" +  str(vgg16_test_loss))\n",
    "print(\"VGG16 Test Accuracy: \" + str(vgg16_test_accuracy))"
   ]
  },
  {
   "cell_type": "code",
   "execution_count": 9,
   "id": "FIDGRxXqhP08",
   "metadata": {
    "id": "FIDGRxXqhP08"
   },
   "outputs": [
    {
     "name": "stdout",
     "output_type": "stream",
     "text": [
      "6/6 [==============================] - 18s 3s/step\n",
      "                               precision    recall  f1-score   support\n",
      "\n",
      "           005.Crested_Auklet       0.67      0.50      0.57         8\n",
      "                 013.Bobolink       0.75      0.67      0.71         9\n",
      "           015.Lazuli_Bunting       0.67      0.80      0.73        10\n",
      "         023.Brandt_Cormorant       0.78      0.70      0.74        10\n",
      "   040.Olive_sided_Flycatcher       0.78      0.78      0.78         9\n",
      "041.Scissor_tailed_Flycatcher       0.80      0.44      0.57         9\n",
      "         067.Anna_Hummingbird       0.90      1.00      0.95         9\n",
      "          072.Pomarine_Jaeger       0.64      1.00      0.78         9\n",
      "          076.Dark_eyed_Junco       0.75      1.00      0.86         9\n",
      "          081.Pied_Kingfisher       0.89      0.89      0.89         9\n",
      "        082.Ringed_Kingfisher       0.73      0.89      0.80         9\n",
      "             086.Pacific_Loon       0.89      0.89      0.89         9\n",
      "                 099.Ovenbird       1.00      0.67      0.80         9\n",
      "           104.American_Pipit       0.45      0.56      0.50         9\n",
      "         127.Savannah_Sparrow       0.75      0.67      0.71         9\n",
      "             135.Bank_Swallow       0.43      0.30      0.35        10\n",
      "               141.Artic_Tern       1.00      1.00      1.00        10\n",
      "           149.Brown_Thrasher       0.73      0.80      0.76        10\n",
      "         156.White_eyed_Vireo       0.54      0.78      0.64         9\n",
      "         168.Kentucky_Warbler       0.80      0.40      0.53        10\n",
      "\n",
      "                     accuracy                           0.74       185\n",
      "                    macro avg       0.75      0.74      0.73       185\n",
      "                 weighted avg       0.75      0.74      0.73       185\n",
      "\n"
     ]
    }
   ],
   "source": [
    "#classification report for VGG16\n",
    "test_steps_per_epoch = np.math.ceil(test_generator.samples/test_generator.batch_size)\n",
    "\n",
    "vgg16_predictions = vgg16_model.predict(test_generator, steps=test_steps_per_epoch)\n",
    "\n",
    "predicted_classes = np.argmax(vgg16_predictions, axis=1)\n",
    "true_classes = test_generator.classes\n",
    "class_labels = list(test_generator.class_indices.keys())   \n",
    "\n",
    "vgg16_report = classification_report(true_classes, predicted_classes, target_names=class_labels)\n",
    "print(vgg16_report)  "
   ]
  },
  {
   "cell_type": "code",
   "execution_count": 10,
   "id": "9LDH-HcKTP34",
   "metadata": {
    "id": "9LDH-HcKTP34"
   },
   "outputs": [
    {
     "data": {
      "image/png": "[encoded data removed]",
      "text/plain": [
       "<Figure size 432x288 with 1 Axes>"
      ]
     },
     "metadata": {
      "needs_background": "light"
     },
     "output_type": "display_data"
    }
   ],
   "source": [
    "#Accuracy plot for VGG16\n",
    "plt.plot(vgg16_training.history[\"accuracy\"])\n",
    "plt.plot(vgg16_training.history['val_accuracy'])\n",
    "plt.title(\"Model Accuracy\")\n",
    "plt.ylabel(\"Accuracy\")\n",
    "plt.xlabel(\"Epoch\")\n",
    "plt.legend([\"Accuracy\",\"Validation Accuracy\"])\n",
    "plt.show()"
   ]
  },
  {
   "cell_type": "code",
   "execution_count": 11,
   "id": "Iw7glZN6gx0s",
   "metadata": {
    "id": "Iw7glZN6gx0s"
   },
   "outputs": [
    {
     "data": {
      "image/png": "[encoded data removed]",
      "text/plain": [
       "<Figure size 432x288 with 1 Axes>"
      ]
     },
     "metadata": {
      "needs_background": "light"
     },
     "output_type": "display_data"
    }
   ],
   "source": [
    "#Loss plot for VGG16\n",
    "plt.plot(vgg16_training.history['loss'])\n",
    "plt.plot(vgg16_training.history['val_loss'])\n",
    "plt.title(\"Model Loss\")\n",
    "plt.ylabel(\"Loss\")\n",
    "plt.xlabel(\"Epoch\")\n",
    "plt.legend([\"Loss\",\"Validation Loss\"])\n",
    "plt.show()"
   ]
  },
  {
   "cell_type": "code",
   "execution_count": 12,
   "id": "Rlhfwcx0iTh5",
   "metadata": {
    "id": "Rlhfwcx0iTh5"
   },
   "outputs": [
    {
     "name": "stdout",
     "output_type": "stream",
     "text": [
      "Found 820 images belonging to 20 classes.\n",
      "Found 171 images belonging to 20 classes.\n",
      "Found 185 images belonging to 20 classes.\n"
     ]
    }
   ],
   "source": [
    "#image augmentation for training set\n",
    "train_datagen = ImageDataGenerator(\n",
    "        rotation_range = 10,\n",
    "        width_shift_range = 0.2,\n",
    "        height_shift_range = 0.2, \n",
    "        zoom_range = 0.2,\n",
    "        horizontal_flip = True,\n",
    "        brightness_range=[0.2,1.2]) \n",
    "\n",
    "test_datagen = ImageDataGenerator()\n",
    "\n",
    "#getting data from directories\n",
    "train_generator=train_datagen.flow_from_directory(\n",
    "    'output/train', #data source\n",
    "    target_size = (224, 224), #resizing images to (224, 224)\n",
    "    shuffle = True, #shuffling data\n",
    "    class_mode = 'categorical') #one-hot encoding of categorical variables\n",
    "\n",
    "val_generator=test_datagen.flow_from_directory(\n",
    "    'output/val',\n",
    "    target_size = (224, 224),\n",
    "    shuffle = False,\n",
    "    class_mode = 'categorical')\n",
    "\n",
    "test_generator=test_datagen.flow_from_directory(\n",
    "    'output/test',\n",
    "    target_size = (224, 224),\n",
    "    shuffle = False,\n",
    "    class_mode = 'categorical')"
   ]
  },
  {
   "cell_type": "code",
   "execution_count": 14,
   "id": "cb157105",
   "metadata": {
    "id": "cb157105"
   },
   "outputs": [
    {
     "name": "stdout",
     "output_type": "stream",
     "text": [
      "Epoch 1/100\n",
      "26/26 - 44s - loss: 11.2331 - accuracy: 0.2927 - val_loss: 5.6241 - val_accuracy: 0.6316 - 44s/epoch - 2s/step\n",
      "Epoch 2/100\n",
      "26/26 - 36s - loss: 7.4939 - accuracy: 0.6085 - val_loss: 4.8303 - val_accuracy: 0.7251 - 36s/epoch - 1s/step\n",
      "Epoch 3/100\n",
      "26/26 - 38s - loss: 6.8389 - accuracy: 0.6646 - val_loss: 4.1380 - val_accuracy: 0.7544 - 38s/epoch - 1s/step\n",
      "Epoch 4/100\n",
      "26/26 - 35s - loss: 4.8169 - accuracy: 0.7378 - val_loss: 3.4698 - val_accuracy: 0.7836 - 35s/epoch - 1s/step\n",
      "Epoch 5/100\n",
      "26/26 - 35s - loss: 4.1251 - accuracy: 0.7646 - val_loss: 3.1972 - val_accuracy: 0.8070 - 35s/epoch - 1s/step\n",
      "Epoch 6/100\n",
      "26/26 - 36s - loss: 3.5368 - accuracy: 0.7793 - val_loss: 3.5148 - val_accuracy: 0.7953 - 36s/epoch - 1s/step\n",
      "Epoch 7/100\n",
      "26/26 - 35s - loss: 3.4219 - accuracy: 0.8110 - val_loss: 3.0052 - val_accuracy: 0.8363 - 35s/epoch - 1s/step\n",
      "Epoch 8/100\n",
      "26/26 - 35s - loss: 2.8678 - accuracy: 0.8354 - val_loss: 3.5782 - val_accuracy: 0.8187 - 35s/epoch - 1s/step\n",
      "Epoch 9/100\n",
      "26/26 - 35s - loss: 3.5129 - accuracy: 0.8122 - val_loss: 4.0465 - val_accuracy: 0.8246 - 35s/epoch - 1s/step\n",
      "Epoch 10/100\n",
      "26/26 - 35s - loss: 2.7002 - accuracy: 0.8524 - val_loss: 3.1565 - val_accuracy: 0.7953 - 35s/epoch - 1s/step\n",
      "Epoch 11/100\n",
      "26/26 - 35s - loss: 3.6068 - accuracy: 0.8390 - val_loss: 4.0023 - val_accuracy: 0.7953 - 35s/epoch - 1s/step\n",
      "Epoch 12/100\n",
      "26/26 - 35s - loss: 2.5667 - accuracy: 0.8622 - val_loss: 4.3259 - val_accuracy: 0.8304 - 35s/epoch - 1s/step\n",
      "Epoch 13/100\n",
      "26/26 - 35s - loss: 2.4507 - accuracy: 0.8671 - val_loss: 4.8004 - val_accuracy: 0.8246 - 35s/epoch - 1s/step\n",
      "Epoch 14/100\n",
      "26/26 - 35s - loss: 2.9551 - accuracy: 0.8671 - val_loss: 2.6063 - val_accuracy: 0.8830 - 35s/epoch - 1s/step\n",
      "Epoch 15/100\n",
      "26/26 - 36s - loss: 2.5512 - accuracy: 0.8683 - val_loss: 3.6789 - val_accuracy: 0.7953 - 36s/epoch - 1s/step\n",
      "Epoch 16/100\n",
      "26/26 - 36s - loss: 2.1095 - accuracy: 0.8988 - val_loss: 3.0725 - val_accuracy: 0.8596 - 36s/epoch - 1s/step\n",
      "Epoch 17/100\n",
      "26/26 - 36s - loss: 1.8444 - accuracy: 0.8890 - val_loss: 3.8099 - val_accuracy: 0.8538 - 36s/epoch - 1s/step\n",
      "Epoch 18/100\n",
      "26/26 - 36s - loss: 2.1199 - accuracy: 0.8878 - val_loss: 4.2457 - val_accuracy: 0.8480 - 36s/epoch - 1s/step\n",
      "Epoch 19/100\n",
      "26/26 - 36s - loss: 2.0098 - accuracy: 0.8780 - val_loss: 3.0293 - val_accuracy: 0.8655 - 36s/epoch - 1s/step\n",
      "Epoch 20/100\n",
      "26/26 - 35s - loss: 1.8608 - accuracy: 0.9049 - val_loss: 3.4651 - val_accuracy: 0.8772 - 35s/epoch - 1s/step\n",
      "Epoch 21/100\n",
      "26/26 - 36s - loss: 1.8387 - accuracy: 0.8951 - val_loss: 4.7152 - val_accuracy: 0.8304 - 36s/epoch - 1s/step\n",
      "Epoch 22/100\n",
      "26/26 - 36s - loss: 2.1697 - accuracy: 0.8817 - val_loss: 4.8537 - val_accuracy: 0.8246 - 36s/epoch - 1s/step\n",
      "Epoch 23/100\n",
      "26/26 - 36s - loss: 2.0471 - accuracy: 0.8951 - val_loss: 3.7998 - val_accuracy: 0.8538 - 36s/epoch - 1s/step\n",
      "Epoch 24/100\n",
      "26/26 - 36s - loss: 2.1869 - accuracy: 0.8915 - val_loss: 4.3153 - val_accuracy: 0.8538 - 36s/epoch - 1s/step\n"
     ]
    }
   ],
   "source": [
    "#EfficientNetB0 base model instance\n",
    "effnetb0_base_model = EfficientNetB0(weights = \"imagenet\", include_top = False, input_shape = (224,224,3))\n",
    "\n",
    "#freezing layers of EfficientNetB0 \n",
    "effnetb0_base_model.trainable = False \n",
    "\n",
    "#flattening data\n",
    "flatten_layer = layers.Flatten()\n",
    "\n",
    "#adding batch normalization\n",
    "batch_normalization = layers.BatchNormalization()\n",
    "\n",
    "#adding relu activation layer\n",
    "relu_layer = layers.Dense(256, activation='relu')\n",
    "\n",
    "#adding dropout layer\n",
    "dropout_layer = layers.Dropout(0.2)\n",
    "\n",
    "#adding softmax activation layer\n",
    "softmax_layer = layers.Dense(20, activation='softmax')\n",
    "\n",
    "#combining all the layers\n",
    "effnetb0_model = models.Sequential([\n",
    "    layers.RandomCrop(224, 224),\n",
    "    effnetb0_base_model,\n",
    "    flatten_layer,\n",
    "    batch_normalization,\n",
    "    relu_layer,\n",
    "    dropout_layer,\n",
    "    softmax_layer\n",
    "])\n",
    "\n",
    "#compiling the model\n",
    "effnetb0_model.compile(\n",
    "    optimizer='adam',\n",
    "    loss='categorical_crossentropy',\n",
    "    metrics=['accuracy']\n",
    ")\n",
    "\n",
    "#setting maximum number of epochs\n",
    "epochs = 100\n",
    "\n",
    "\n",
    "#defining early stopping instance\n",
    "es = EarlyStopping(monitor='val_accuracy', mode='max', patience=10,  restore_best_weights=True)\n",
    "\n",
    "#training the model\n",
    "effnetb0_training = effnetb0_model.fit(train_generator, epochs=epochs, validation_data=val_generator, verbose=2, batch_size=5, callbacks=[es])"
   ]
  },
  {
   "cell_type": "code",
   "execution_count": 15,
   "id": "21ba8764",
   "metadata": {
    "id": "21ba8764"
   },
   "outputs": [
    {
     "name": "stdout",
     "output_type": "stream",
     "text": [
      "6/6 [==============================] - 6s 1s/step - loss: 3.4086 - accuracy: 0.8378\n",
      "EfficientNetB0 Test Loss: 3.408627986907959\n",
      "EfficientNetB0 Test Accuracy: 0.837837815284729\n"
     ]
    }
   ],
   "source": [
    "#evaluating EfficientNetB0 on test data\n",
    "effnetb0_test_loss, effnetb0_test_accuracy = effnetb0_model.evaluate(test_generator)\n",
    "print(\"EfficientNetB0 Test Loss: \" +  str(effnetb0_test_loss))\n",
    "print(\"EfficientNetB0 Test Accuracy: \" + str(effnetb0_test_accuracy))"
   ]
  },
  {
   "cell_type": "code",
   "execution_count": 16,
   "id": "18UaxeqJ5Lwl",
   "metadata": {
    "id": "18UaxeqJ5Lwl"
   },
   "outputs": [
    {
     "name": "stdout",
     "output_type": "stream",
     "text": [
      "6/6 [==============================] - 7s 1s/step\n",
      "                               precision    recall  f1-score   support\n",
      "\n",
      "           005.Crested_Auklet       1.00      0.88      0.93         8\n",
      "                 013.Bobolink       1.00      1.00      1.00         9\n",
      "           015.Lazuli_Bunting       0.83      1.00      0.91        10\n",
      "         023.Brandt_Cormorant       0.89      0.80      0.84        10\n",
      "   040.Olive_sided_Flycatcher       0.70      0.78      0.74         9\n",
      "041.Scissor_tailed_Flycatcher       1.00      0.44      0.62         9\n",
      "         067.Anna_Hummingbird       1.00      0.89      0.94         9\n",
      "          072.Pomarine_Jaeger       0.75      1.00      0.86         9\n",
      "          076.Dark_eyed_Junco       0.90      1.00      0.95         9\n",
      "          081.Pied_Kingfisher       0.90      1.00      0.95         9\n",
      "        082.Ringed_Kingfisher       0.90      1.00      0.95         9\n",
      "             086.Pacific_Loon       0.89      0.89      0.89         9\n",
      "                 099.Ovenbird       0.90      1.00      0.95         9\n",
      "           104.American_Pipit       0.83      0.56      0.67         9\n",
      "         127.Savannah_Sparrow       0.73      0.89      0.80         9\n",
      "             135.Bank_Swallow       0.57      0.40      0.47        10\n",
      "               141.Artic_Tern       0.83      1.00      0.91        10\n",
      "           149.Brown_Thrasher       0.90      0.90      0.90        10\n",
      "         156.White_eyed_Vireo       0.62      0.56      0.59         9\n",
      "         168.Kentucky_Warbler       0.73      0.80      0.76        10\n",
      "\n",
      "                     accuracy                           0.84       185\n",
      "                    macro avg       0.84      0.84      0.83       185\n",
      "                 weighted avg       0.84      0.84      0.83       185\n",
      "\n"
     ]
    }
   ],
   "source": [
    "#classification report for EfficientNetB0\n",
    "test_steps_per_epoch = np.math.ceil(test_generator.samples/test_generator.batch_size)\n",
    "\n",
    "effnetb0_predictions = effnetb0_model.predict(test_generator, steps=test_steps_per_epoch)\n",
    "\n",
    "predicted_classes = np.argmax(effnetb0_predictions, axis=1)\n",
    "true_classes = test_generator.classes\n",
    "class_labels = list(test_generator.class_indices.keys())   \n",
    "\n",
    "effnetb0_report = classification_report(true_classes, predicted_classes, target_names=class_labels)\n",
    "print(effnetb0_report)  "
   ]
  },
  {
   "cell_type": "code",
   "execution_count": 17,
   "id": "QPh8jHRcf-EY",
   "metadata": {
    "id": "QPh8jHRcf-EY"
   },
   "outputs": [
    {
     "data": {
      "image/png": "[encoded data removed]",
      "text/plain": [
       "<Figure size 432x288 with 1 Axes>"
      ]
     },
     "metadata": {
      "needs_background": "light"
     },
     "output_type": "display_data"
    }
   ],
   "source": [
    "#Accuracy plot for EfficientNetB0\n",
    "plt.plot(effnetb0_training.history[\"accuracy\"])\n",
    "plt.plot(effnetb0_training.history['val_accuracy'])\n",
    "plt.title(\"Model Accuracy\")\n",
    "plt.ylabel(\"Accuracy\")\n",
    "plt.xlabel(\"Epoch\")\n",
    "plt.legend([\"Accuracy\",\"Validation Accuracy\"])\n",
    "plt.show()"
   ]
  },
  {
   "cell_type": "code",
   "execution_count": 18,
   "id": "poAC9o7UgMwC",
   "metadata": {
    "id": "poAC9o7UgMwC"
   },
   "outputs": [
    {
     "data": {
      "image/png": "[encoded data removed]",
      "text/plain": [
       "<Figure size 432x288 with 1 Axes>"
      ]
     },
     "metadata": {
      "needs_background": "light"
     },
     "output_type": "display_data"
    }
   ],
   "source": [
    "#Loss plot for EfficientNetB0\n",
    "plt.plot(effnetb0_training.history['loss'])\n",
    "plt.plot(effnetb0_training.history['val_loss'])\n",
    "plt.title(\"Model Loss\")\n",
    "plt.ylabel(\"Loss\")\n",
    "plt.xlabel(\"Epoch\")\n",
    "plt.legend([\"Loss\",\"Validation Loss\"])\n",
    "plt.show()"
   ]
  },
  {
   "cell_type": "code",
   "execution_count": null,
   "id": "393e78fc",
   "metadata": {},
   "outputs": [],
   "source": []
  }
 ],
 "metadata": {
  "accelerator": "GPU",
  "colab": {
   "provenance": []
  },
  "gpuClass": "standard",
  "kernelspec": {
   "display_name": "Python 3 (ipykernel)",
   "language": "python",
   "name": "python3"
  },
  "language_info": {
   "codemirror_mode": {
    "name": "ipython",
    "version": 3
   },
   "file_extension": ".py",
   "mimetype": "text/x-python",
   "name": "python",
   "nbconvert_exporter": "python",
   "pygments_lexer": "ipython3",
   "version": "3.9.12"
  }
 },
 "nbformat": 4,
 "nbformat_minor": 5
}
